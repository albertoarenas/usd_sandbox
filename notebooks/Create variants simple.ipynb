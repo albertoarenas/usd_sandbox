{
 "cells": [
  {
   "cell_type": "markdown",
   "metadata": {},
   "source": [
    "# Create a sphere asset with variants for the display color"
   ]
  },
  {
   "cell_type": "code",
   "execution_count": 22,
   "metadata": {},
   "outputs": [],
   "source": [
    "from pxr import Usd, UsdGeom"
   ]
  },
  {
   "cell_type": "code",
   "execution_count": 23,
   "metadata": {},
   "outputs": [],
   "source": [
    "import os\n",
    "usd_scene_dir = '..\\usd_scenes'\n",
    "usd_sphere_filename='sphere.usda'\n",
    "usd_sphere_filepath = os.path.join(usd_scene_dir, usd_sphere_filename)"
   ]
  },
  {
   "cell_type": "markdown",
   "metadata": {},
   "source": [
    "# Create a usda layer containing just the geometry of a ball"
   ]
  },
  {
   "cell_type": "code",
   "execution_count": 45,
   "metadata": {},
   "outputs": [],
   "source": [
    "# Execute only if you have already created a stage and need to redo it.\n",
    "del stage"
   ]
  },
  {
   "cell_type": "code",
   "execution_count": 46,
   "metadata": {},
   "outputs": [
    {
     "name": "stdout",
     "output_type": "stream",
     "text": [
      "#usda 1.0\n",
      "(\n",
      "    defaultPrim = \"sphere\"\n",
      ")\n",
      "\n",
      "def Xform \"sphere\"\n",
      "{\n",
      "    def Sphere \"geom\"\n",
      "    {\n",
      "        color3f[] primvars:displayColor\n",
      "    }\n",
      "}\n",
      "\n",
      "\n"
     ]
    }
   ],
   "source": [
    "# Create stage\n",
    "stage = Usd.Stage.CreateNew(usd_sphere_filepath)\n",
    "\n",
    "# Create a transform with a sphere primitive inside\n",
    "sphere = stage.DefinePrim('/sphere', 'Xform')\n",
    "geom = stage.DefinePrim('/sphere/geom', 'Sphere')\n",
    "\n",
    "# Clear primitive display color so variants will be composited properly otherwise the value of the property \n",
    "# in the primitive always wins \n",
    "\n",
    "# Use UsdGeom.Sphere schema to access display color\n",
    "sphereSchema = UsdGeom.Sphere(geom)\n",
    "colorAttr = sphereSchema.GetDisplayColorAttr()\n",
    "colorAttr.Set([(0,0,1)])\n",
    "colorAttr.Clear()\n",
    "\n",
    "# Use UsdGeom.Gprim schema to access display color\n",
    "colorAttr = UsdGeom.Gprim.Get(stage, '/sphere/geom').GetDisplayColorAttr()\n",
    "colorAttr.Clear()\n",
    "\n",
    "# Set transform as default primitive in case this usda is referenced\n",
    "stage.SetDefaultPrim(sphere)\n",
    "color = sphereSchema.GetDisplayColorAttr()\n",
    "\n",
    "# Save and show result\n",
    "stage.GetRootLayer().Save()\n",
    "print stage.GetRootLayer().ExportToString()"
   ]
  },
  {
   "cell_type": "markdown",
   "metadata": {},
   "source": [
    "## Add variantset and variants"
   ]
  },
  {
   "cell_type": "code",
   "execution_count": 54,
   "metadata": {},
   "outputs": [
    {
     "name": "stdout",
     "output_type": "stream",
     "text": [
      "shadingVariant\n",
      "<pxr.Usd.VariantSet object at 0x000000000544CD68>\n"
     ]
    }
   ],
   "source": [
    "variantset_name_list = sphere.GetVariantSets().GetNames()\n",
    "for variantset_name in variantset_name_list:\n",
    "    print variantset_name\n",
    "    variant_set = sphere.GetVariantSet(variantset_name)\n",
    "    print variant_set"
   ]
  },
  {
   "cell_type": "code",
   "execution_count": 59,
   "metadata": {},
   "outputs": [
    {
     "name": "stdout",
     "output_type": "stream",
     "text": [
      "#usda 1.0\n",
      "(\n",
      "    defaultPrim = \"sphere\"\n",
      ")\n",
      "\n",
      "def Xform \"sphere\" (\n",
      "    variants = {\n",
      "        string shadingVariant = \"red\"\n",
      "    }\n",
      "    prepend variantSets = \"shadingVariant\"\n",
      ")\n",
      "{\n",
      "    def Sphere \"geom\"\n",
      "    {\n",
      "        color3f[] primvars:displayColor\n",
      "    }\n",
      "    variantSet \"shadingVariant\" = {\n",
      "        \"blue\" {\n",
      "            over \"geom\"\n",
      "            {\n",
      "                color3f[] primvars:displayColor = [(0, 0, 1)]\n",
      "            }\n",
      "\n",
      "        }\n",
      "        \"green\" {\n",
      "            over \"geom\"\n",
      "            {\n",
      "                color3f[] primvars:displayColor = [(0, 1, 0)]\n",
      "            }\n",
      "\n",
      "        }\n",
      "        \"red\" {\n",
      "            over \"geom\"\n",
      "            {\n",
      "                color3f[] primvars:displayColor = [(1, 0, 0)]\n",
      "            }\n",
      "\n",
      "        }\n",
      "    }\n",
      "}\n",
      "\n",
      "\n"
     ]
    }
   ],
   "source": [
    "# Create a variant set only if it does not exists\n",
    "variantset_name_list = sphere.GetVariantSets().GetNames()\n",
    "variantset_name = 'shadingVariant'\n",
    "if variantset_name not in variantset_name_list:\n",
    "    variant_set = sphere.GetVariantSets().AddVariantSet('shadingVariant')\n",
    "\n",
    "# Create each variant only if it does not exists\n",
    "variant_list = {'red':[(1,0,0)], 'blue':[(0,0,1)], 'green':[(0,1,0)]}\n",
    "for variant_name, variant_color in variant_list.iteritems():\n",
    "    if variant_name not in variant_set.GetVariantNames():\n",
    "        variant_set.AddVariant(variant_name)\n",
    "        \n",
    "    # Modify color attribute in the context of the variant\n",
    "    variant_set.SetVariantSelection(variant_name)\n",
    "    with variant_set.GetVariantEditContext():\n",
    "        colorAttr.Set(variant_color)\n",
    "\n",
    "# Save and show result\n",
    "stage.GetRootLayer().Save()\n",
    "print stage.GetRootLayer().ExportToString()"
   ]
  },
  {
   "cell_type": "code",
   "execution_count": 60,
   "metadata": {},
   "outputs": [],
   "source": [
    "!usdview {usd_sphere_filepath}"
   ]
  }
 ],
 "metadata": {
  "kernelspec": {
   "display_name": "Python 3",
   "language": "python",
   "name": "python3"
  },
  "language_info": {
   "codemirror_mode": {
    "name": "ipython",
    "version": 3
   },
   "file_extension": ".py",
   "mimetype": "text/x-python",
   "name": "python",
   "nbconvert_exporter": "python",
   "pygments_lexer": "ipython3",
   "version": "3.8.3"
  }
 },
 "nbformat": 4,
 "nbformat_minor": 2
}
