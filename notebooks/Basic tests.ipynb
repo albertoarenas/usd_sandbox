{
 "cells": [
  {
   "cell_type": "code",
   "execution_count": 1,
   "metadata": {},
   "outputs": [
    {
     "name": "stdout",
     "output_type": "stream",
     "text": [
      "['C:\\\\Code\\\\USD\\\\USD\\\\lib\\\\python']\n"
     ]
    }
   ],
   "source": [
    "import os\n",
    "try:\n",
    "    user_paths = os.environ['PYTHONPATH'].split(os.pathsep)\n",
    "except KeyError:\n",
    "    user_paths = []\n",
    "    \n",
    "print(user_paths)"
   ]
  },
  {
   "cell_type": "code",
   "execution_count": 1,
   "metadata": {},
   "outputs": [],
   "source": [
    "from pxr import Usd, UsdGeom\n",
    "import os"
   ]
  },
  {
   "cell_type": "markdown",
   "metadata": {},
   "source": [
    "# Create simple scene with one sphere"
   ]
  },
  {
   "cell_type": "code",
   "execution_count": 2,
   "metadata": {},
   "outputs": [],
   "source": [
    "# Execute only if you have already created a stage and need to redo it.\n",
    "try:\n",
    "    del stage\n",
    "except NameError:\n",
    "    pass"
   ]
  },
  {
   "cell_type": "code",
   "execution_count": 4,
   "metadata": {},
   "outputs": [],
   "source": [
    "usd_scene_dir = '..\\usd_scenes'\n",
    "usd_sphere_filename='sphere.usda'\n",
    "usd_sphere_filepath = os.path.join(usd_scene_dir, usd_sphere_filename)"
   ]
  },
  {
   "cell_type": "code",
   "execution_count": 14,
   "metadata": {},
   "outputs": [
    {
     "data": {
      "text/plain": [
       "True"
      ]
     },
     "execution_count": 14,
     "metadata": {},
     "output_type": "execute_result"
    }
   ],
   "source": [
    "try:\n",
    "    stage = Usd.Stage.CreateNew(usd_sphere_filepath)\n",
    "except:\n",
    "    os.remove(usd_sphere_filepath)\n",
    "    stage = Usd.Stage.CreateNew(usd_sphere_filepath)\n",
    "    \n",
    "\n",
    "# xformPrim = UsdGeom.Xform.Define(stage, '/world')\n",
    "# spherePrim = UsdGeom.Sphere.Define(stage, '/world/sphere')\n",
    "\n",
    "sphere = stage.DefinePrim('/sphere', 'Xform')\n",
    "geom = stage.DefinePrim('/sphere/geom', 'Sphere')\n",
    "\n",
    "stage.SetDefaultPrim(sphere)\n",
    "stage.GetRootLayer().Save()"
   ]
  },
  {
   "cell_type": "code",
   "execution_count": 15,
   "metadata": {},
   "outputs": [
    {
     "name": "stdout",
     "output_type": "stream",
     "text": [
      "#usda 1.0\n",
      "(\n",
      "    defaultPrim = \"sphere\"\n",
      ")\n",
      "\n",
      "def Xform \"sphere\"\n",
      "{\n",
      "    def Sphere \"geom\"\n",
      "    {\n",
      "    }\n",
      "}\n",
      "\n",
      "\n"
     ]
    }
   ],
   "source": [
    "print stage.GetRootLayer().ExportToString()"
   ]
  },
  {
   "cell_type": "code",
   "execution_count": 5,
   "metadata": {},
   "outputs": [
    {
     "name": "stderr",
     "output_type": "stream",
     "text": [
      "State file not found, a new one will be created.\n"
     ]
    }
   ],
   "source": [
    "!usdview {usd_sphere_filepath}"
   ]
  },
  {
   "cell_type": "markdown",
   "metadata": {},
   "source": [
    "# Open and existing usd scene and inspect it"
   ]
  },
  {
   "cell_type": "markdown",
   "metadata": {},
   "source": [
    "1. Access Xform and Sphere as Primitives\n",
    "2. List attributes"
   ]
  },
  {
   "cell_type": "code",
   "execution_count": 6,
   "metadata": {},
   "outputs": [
    {
     "data": {
      "text/plain": [
       "['doubleSided',\n",
       " 'extent',\n",
       " 'orientation',\n",
       " 'primvars:displayColor',\n",
       " 'primvars:displayOpacity',\n",
       " 'proxyPrim',\n",
       " 'purpose',\n",
       " 'radius',\n",
       " 'visibility',\n",
       " 'xformOpOrder']"
      ]
     },
     "execution_count": 6,
     "metadata": {},
     "output_type": "execute_result"
    }
   ],
   "source": [
    "stage = Usd.Stage.Open(usd_sphere_filepath)\n",
    "sphere = stage.GetPrimAtPath('/sphere')\n",
    "geom = stage.GetPrimAtPath('/sphere/geom')\n",
    "sphere.GetPropertyNames()\n",
    "geom.GetPropertyNames()"
   ]
  },
  {
   "cell_type": "markdown",
   "metadata": {},
   "source": [
    "### Access primitive attributes"
   ]
  },
  {
   "cell_type": "code",
   "execution_count": 7,
   "metadata": {},
   "outputs": [
    {
     "data": {
      "text/plain": [
       "True"
      ]
     },
     "execution_count": 7,
     "metadata": {},
     "output_type": "execute_result"
    }
   ],
   "source": [
    "extentAttr = geom.GetAttribute('extent')\n",
    "extentAttr.Get()\n",
    "radiusAttr = geom.GetAttribute('radius')\n",
    "radiusAttr.Set(2)\n",
    "extentAttr.Set(extentAttr.Get()*2)"
   ]
  },
  {
   "cell_type": "markdown",
   "metadata": {},
   "source": [
    "### Access Primitive attributes via schema"
   ]
  },
  {
   "cell_type": "code",
   "execution_count": 8,
   "metadata": {},
   "outputs": [
    {
     "data": {
      "text/plain": [
       "True"
      ]
     },
     "execution_count": 8,
     "metadata": {},
     "output_type": "execute_result"
    }
   ],
   "source": [
    "sphereSchema = UsdGeom.Sphere(geom)\n",
    "color = sphereSchema.GetDisplayColorAttr()\n",
    "color.Set([(0,0,1)])"
   ]
  },
  {
   "cell_type": "markdown",
   "metadata": {},
   "source": [
    "### Apply a translation to the Xform"
   ]
  },
  {
   "cell_type": "code",
   "execution_count": 9,
   "metadata": {},
   "outputs": [
    {
     "name": "stdout",
     "output_type": "stream",
     "text": [
      "#usda 1.0\n",
      "(\n",
      "    defaultPrim = \"sphere\"\n",
      ")\n",
      "\n",
      "def Xform \"sphere\"\n",
      "{\n",
      "    double3 xformOp:translate = (5, 5, 5)\n",
      "    uniform token[] xformOpOrder = [\"xformOp:translate\"]\n",
      "\n",
      "    def Sphere \"geom\"\n",
      "    {\n",
      "        float3[] extent = [(-2, -2, -2), (2, 2, 2)]\n",
      "        color3f[] primvars:displayColor = [(0, 0, 1)]\n",
      "        double radius = 2\n",
      "    }\n",
      "}\n",
      "\n",
      "\n"
     ]
    }
   ],
   "source": [
    "UsdGeom.XformCommonAPI(sphere).SetTranslate((5, 5, 5))\n",
    "print stage.GetRootLayer().ExportToString()"
   ]
  },
  {
   "cell_type": "code",
   "execution_count": 10,
   "metadata": {},
   "outputs": [
    {
     "data": {
      "text/plain": [
       "True"
      ]
     },
     "execution_count": 10,
     "metadata": {},
     "output_type": "execute_result"
    }
   ],
   "source": [
    "stage.GetRootLayer().Save()"
   ]
  },
  {
   "cell_type": "code",
   "execution_count": 11,
   "metadata": {},
   "outputs": [],
   "source": [
    "!usdview {usd_sphere_filepath}"
   ]
  },
  {
   "cell_type": "markdown",
   "metadata": {},
   "source": [
    "# Create a Reference Scene"
   ]
  },
  {
   "cell_type": "code",
   "execution_count": 23,
   "metadata": {},
   "outputs": [],
   "source": [
    "usd_ref_scene_filename ='ref_scene.usda'\n",
    "usd_ref_scene_filepath = os.path.join(usd_scene_dir, usd_ref_scene_filename)"
   ]
  },
  {
   "cell_type": "code",
   "execution_count": 28,
   "metadata": {},
   "outputs": [],
   "source": [
    "if ref_stage:\n",
    "    del ref_stage"
   ]
  },
  {
   "cell_type": "code",
   "execution_count": 29,
   "metadata": {},
   "outputs": [
    {
     "name": "stdout",
     "output_type": "stream",
     "text": [
      "#usda 1.0\n",
      "\n",
      "over \"refSphere\"\n",
      "{\n",
      "}\n",
      "\n",
      "\n"
     ]
    }
   ],
   "source": [
    "ref_stage = Usd.Stage.CreateNew(usd_ref_scene_filepath)\n",
    "ref_sphere = ref_stage.OverridePrim('/refSphere')\n",
    "print ref_stage.GetRootLayer().ExportToString()"
   ]
  },
  {
   "cell_type": "code",
   "execution_count": 30,
   "metadata": {},
   "outputs": [
    {
     "name": "stdout",
     "output_type": "stream",
     "text": [
      "#usda 1.0\n",
      "\n",
      "over \"refSphere\" (\n",
      "    prepend references = @D:\\PROJECTS\\Code\\USD\\usd_testing\\usd_scenes\\sphere.usda@\n",
      ")\n",
      "{\n",
      "}\n",
      "\n",
      "\n"
     ]
    },
    {
     "data": {
      "text/plain": [
       "True"
      ]
     },
     "execution_count": 30,
     "metadata": {},
     "output_type": "execute_result"
    }
   ],
   "source": [
    "ref_sphere.GetReferences().AddReference(os.path.abspath(usd_sphere_filepath))\n",
    "#ref_sphere.GetReferences().AddReference('./sphere.usda')\n",
    "print ref_stage.GetRootLayer().ExportToString()\n",
    "ref_stage.GetRootLayer().Save()"
   ]
  },
  {
   "cell_type": "code",
   "execution_count": 31,
   "metadata": {},
   "outputs": [],
   "source": [
    "!usdview {os.path.abspath(usd_ref_scene_filepath)}"
   ]
  },
  {
   "cell_type": "markdown",
   "metadata": {},
   "source": [
    "## Reset transform to Identity\n",
    "1. Trick: Set transform order array to empty"
   ]
  },
  {
   "cell_type": "code",
   "execution_count": 32,
   "metadata": {},
   "outputs": [
    {
     "name": "stdout",
     "output_type": "stream",
     "text": [
      "#usda 1.0\n",
      "\n",
      "over \"refSphere\" (\n",
      "    prepend references = @D:\\PROJECTS\\Code\\USD\\usd_testing\\usd_scenes\\sphere.usda@\n",
      ")\n",
      "{\n",
      "    uniform token[] xformOpOrder = []\n",
      "}\n",
      "\n",
      "\n"
     ]
    },
    {
     "data": {
      "text/plain": [
       "True"
      ]
     },
     "execution_count": 32,
     "metadata": {},
     "output_type": "execute_result"
    }
   ],
   "source": [
    "ref_Xform = UsdGeom.Xformable(ref_sphere)\n",
    "ref_Xform.SetXformOpOrder([])\n",
    "print ref_stage.GetRootLayer().ExportToString()\n",
    "ref_stage.GetRootLayer().Save()"
   ]
  },
  {
   "cell_type": "code",
   "execution_count": 33,
   "metadata": {},
   "outputs": [],
   "source": [
    "!usdview {os.path.abspath(usd_ref_scene_filepath)}"
   ]
  },
  {
   "cell_type": "markdown",
   "metadata": {},
   "source": [
    "## Reference Another Sphere"
   ]
  },
  {
   "cell_type": "code",
   "execution_count": 34,
   "metadata": {},
   "outputs": [
    {
     "name": "stdout",
     "output_type": "stream",
     "text": [
      "#usda 1.0\n",
      "\n",
      "over \"refSphere\" (\n",
      "    prepend references = @D:\\PROJECTS\\Code\\USD\\usd_testing\\usd_scenes\\sphere.usda@\n",
      ")\n",
      "{\n",
      "    uniform token[] xformOpOrder = []\n",
      "}\n",
      "\n",
      "over \"refSphere2\" (\n",
      "    prepend references = @D:\\PROJECTS\\Code\\USD\\usd_testing\\usd_scenes\\sphere.usda@\n",
      ")\n",
      "{\n",
      "}\n",
      "\n",
      "\n"
     ]
    },
    {
     "data": {
      "text/plain": [
       "True"
      ]
     },
     "execution_count": 34,
     "metadata": {},
     "output_type": "execute_result"
    }
   ],
   "source": [
    "ref_sphere2 = ref_stage.OverridePrim('/refSphere2')\n",
    "ref_sphere2.GetReferences().AddReference(os.path.abspath(usd_sphere_filepath))\n",
    "print ref_stage.GetRootLayer().ExportToString()\n",
    "ref_stage.GetRootLayer().Save()"
   ]
  },
  {
   "cell_type": "code",
   "execution_count": 35,
   "metadata": {},
   "outputs": [],
   "source": [
    "!usdview {usd_ref_scene_filepath}"
   ]
  },
  {
   "cell_type": "code",
   "execution_count": null,
   "metadata": {},
   "outputs": [],
   "source": []
  }
 ],
 "metadata": {
  "kernelspec": {
   "display_name": "py2",
   "language": "python",
   "name": "py2"
  },
  "language_info": {
   "codemirror_mode": {
    "name": "ipython",
    "version": 2
   },
   "file_extension": ".py",
   "mimetype": "text/x-python",
   "name": "python",
   "nbconvert_exporter": "python",
   "pygments_lexer": "ipython2",
   "version": "2.7.16"
  }
 },
 "nbformat": 4,
 "nbformat_minor": 2
}
