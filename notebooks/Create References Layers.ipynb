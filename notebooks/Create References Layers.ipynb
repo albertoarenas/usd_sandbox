{
 "cells": [
  {
   "cell_type": "code",
   "execution_count": 2,
   "metadata": {},
   "outputs": [],
   "source": [
    "from pxr import Usd, UsdGeom"
   ]
  },
  {
   "cell_type": "code",
   "execution_count": 3,
   "metadata": {},
   "outputs": [],
   "source": [
    "import os\n",
    "usd_scene_dir = '..\\usd_scenes'\n",
    "usd_mainscene_filename='main_scene.usda'\n",
    "usd_mainscene_filepath = os.path.join(usd_scene_dir, usd_mainscene_filename)"
   ]
  },
  {
   "cell_type": "markdown",
   "metadata": {},
   "source": [
    "## Create a new usd stage that reference an asset"
   ]
  },
  {
   "cell_type": "code",
   "execution_count": 4,
   "metadata": {},
   "outputs": [],
   "source": [
    "# Execute only if you have already created a stage and need to redo it.\n",
    "try:\n",
    "    del main_stage\n",
    "except NameError:\n",
    "    pass"
   ]
  },
  {
   "cell_type": "code",
   "execution_count": 5,
   "metadata": {},
   "outputs": [
    {
     "name": "stdout",
     "output_type": "stream",
     "text": [
      "#usda 1.0\n",
      "\n",
      "def \"asset\"\n",
      "{\n",
      "}\n",
      "\n",
      "\n"
     ]
    }
   ],
   "source": [
    "main_stage = Usd.Stage.CreateNew(usd_mainscene_filepath)\n",
    "asset = main_stage.DefinePrim('/asset')\n",
    "#asset = main_stage.OverridePrim('/asset')\n",
    "print main_stage.GetRootLayer().ExportToString()"
   ]
  },
  {
   "cell_type": "code",
   "execution_count": 6,
   "metadata": {},
   "outputs": [
    {
     "name": "stdout",
     "output_type": "stream",
     "text": [
      "#usda 1.0\n",
      "\n",
      "def \"asset\" (\n",
      "    prepend references = @C:\\Code\\USD\\usd_testing\\usd_scenes\\asset.usda@\n",
      ")\n",
      "{\n",
      "}\n",
      "\n",
      "\n"
     ]
    }
   ],
   "source": [
    "usd_asset_filename = 'asset.usda'\n",
    "usd_asset_filepath = os.path.join(usd_scene_dir, usd_asset_filename)\n",
    "\n",
    "asset.GetReferences().AddReference(os.path.abspath(usd_asset_filepath))\n",
    "#ref_sphere.GetReferences().AddReference('./sphere.usda')\n",
    "main_stage.GetRootLayer().Save()\n",
    "print main_stage.GetRootLayer().ExportToString()"
   ]
  },
  {
   "cell_type": "code",
   "execution_count": 7,
   "metadata": {},
   "outputs": [],
   "source": [
    "!usdview {os.path.abspath(usd_mainscene_filepath)}"
   ]
  },
  {
   "cell_type": "markdown",
   "metadata": {},
   "source": [
    "## Configure the reference changing the color"
   ]
  },
  {
   "cell_type": "code",
   "execution_count": 26,
   "metadata": {},
   "outputs": [
    {
     "name": "stdout",
     "output_type": "stream",
     "text": [
      "#usda 1.0\n",
      "\n",
      "def \"asset\" (\n",
      "    prepend references = @c:\\Code\\USD\\usd_testing\\usd_scenes\\asset.usda@\n",
      ")\n",
      "{\n",
      "    over \"geom\"\n",
      "    {\n",
      "        color3f[] primvars:displayColor = [(0, 1, 1)]\n",
      "    }\n",
      "}\n",
      "\n",
      "\n"
     ]
    }
   ],
   "source": [
    "colorAttr = UsdGeom.Gprim.Get(main_stage, '/asset/geom').GetDisplayColorAttr()\n",
    "colorAttr.Set([(0,1,1)])\n",
    "main_stage.GetRootLayer().Save()\n",
    "print main_stage.GetRootLayer().ExportToString()"
   ]
  },
  {
   "cell_type": "code",
   "execution_count": 19,
   "metadata": {},
   "outputs": [],
   "source": [
    "!usdview {os.path.abspath(usd_mainscene_filepath)}"
   ]
  },
  {
   "cell_type": "markdown",
   "metadata": {},
   "source": [
    "## Configure the reference setting an specific variant set randomly"
   ]
  },
  {
   "cell_type": "code",
   "execution_count": 8,
   "metadata": {},
   "outputs": [
    {
     "name": "stdout",
     "output_type": "stream",
     "text": [
      "shadingVariant\n",
      "red\n",
      "#usda 1.0\n",
      "\n",
      "def \"asset\" (\n",
      "    prepend references = @C:\\Code\\USD\\usd_testing\\usd_scenes\\asset.usda@\n",
      "    variants = {\n",
      "        string shadingVariant = \"red\"\n",
      "    }\n",
      ")\n",
      "{\n",
      "}\n",
      "\n",
      "\n"
     ]
    }
   ],
   "source": [
    "# Get primitive\n",
    "#asset = main_stage.GetPrimAtPath('/asset')\n",
    "\n",
    "import random\n",
    "\n",
    "# Go through all variant sets\n",
    "variantset_name_list = asset.GetVariantSets().GetNames()\n",
    "for variantset_name in variantset_name_list:\n",
    "    \n",
    "    print variantset_name\n",
    "    variant_set = asset.GetVariantSet(variantset_name)\n",
    "    \n",
    "    # Select a random variant and apply it\n",
    "    variant_names = variant_set.GetVariantNames()\n",
    "    random_variant_name = random.choice(variant_names)\n",
    "    print(random_variant_name)\n",
    "    \n",
    "    variant_set.SetVariantSelection(random_variant_name)\n",
    "    \n",
    "    \n",
    "main_stage.GetRootLayer().Save()\n",
    "print main_stage.GetRootLayer().ExportToString()"
   ]
  },
  {
   "cell_type": "code",
   "execution_count": 9,
   "metadata": {},
   "outputs": [],
   "source": [
    "!usdview {os.path.abspath(usd_mainscene_filepath)}"
   ]
  },
  {
   "cell_type": "markdown",
   "metadata": {},
   "source": [
    "## Move the reference in the scene"
   ]
  },
  {
   "cell_type": "code",
   "execution_count": 10,
   "metadata": {},
   "outputs": [
    {
     "name": "stdout",
     "output_type": "stream",
     "text": [
      "#usda 1.0\n",
      "\n",
      "def \"asset\" (\n",
      "    prepend references = @C:\\Code\\USD\\usd_testing\\usd_scenes\\asset.usda@\n",
      "    variants = {\n",
      "        string shadingVariant = \"red\"\n",
      "    }\n",
      ")\n",
      "{\n",
      "    double3 xformOp:translate = (5, 5, 5)\n",
      "    uniform token[] xformOpOrder = [\"xformOp:translate\"]\n",
      "}\n",
      "\n",
      "\n"
     ]
    }
   ],
   "source": [
    "UsdGeom.XformCommonAPI(asset).SetTranslate((5,5,5))\n",
    "\n",
    "main_stage.GetRootLayer().Save()\n",
    "print main_stage.GetRootLayer().ExportToString()"
   ]
  },
  {
   "cell_type": "code",
   "execution_count": 11,
   "metadata": {},
   "outputs": [],
   "source": [
    "!usdview {os.path.abspath(usd_mainscene_filepath)}"
   ]
  },
  {
   "cell_type": "code",
   "execution_count": null,
   "metadata": {},
   "outputs": [],
   "source": []
  }
 ],
 "metadata": {
  "kernelspec": {
   "display_name": "py2",
   "language": "python",
   "name": "py2"
  },
  "language_info": {
   "codemirror_mode": {
    "name": "ipython",
    "version": 2
   },
   "file_extension": ".py",
   "mimetype": "text/x-python",
   "name": "python",
   "nbconvert_exporter": "python",
   "pygments_lexer": "ipython2",
   "version": "2.7.16"
  }
 },
 "nbformat": 4,
 "nbformat_minor": 2
}
