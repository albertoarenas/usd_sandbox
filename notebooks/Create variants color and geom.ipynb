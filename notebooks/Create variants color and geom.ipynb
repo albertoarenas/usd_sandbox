{
 "cells": [
  {
   "cell_type": "markdown",
   "metadata": {},
   "source": [
    "# Create a sphere asset with variants for the display color and geom"
   ]
  },
  {
   "cell_type": "code",
   "execution_count": 1,
   "metadata": {},
   "outputs": [],
   "source": [
    "from pxr import Usd, UsdGeom"
   ]
  },
  {
   "cell_type": "code",
   "execution_count": 2,
   "metadata": {},
   "outputs": [],
   "source": [
    "import os\n",
    "usd_scene_dir = '..\\usd_scenes'\n",
    "usd_sphere_filename='asset.usda'\n",
    "usd_sphere_filepath = os.path.join(usd_scene_dir, usd_sphere_filename)"
   ]
  },
  {
   "cell_type": "markdown",
   "metadata": {},
   "source": [
    "# Create a usda layer containing just the geometry of a ball"
   ]
  },
  {
   "cell_type": "code",
   "execution_count": 6,
   "metadata": {},
   "outputs": [],
   "source": [
    "# Execute only if you have already created a stage and need to redo it.\n",
    "try:\n",
    "    del stage\n",
    "except NameError:\n",
    "    pass"
   ]
  },
  {
   "cell_type": "code",
   "execution_count": 7,
   "metadata": {},
   "outputs": [
    {
     "name": "stdout",
     "output_type": "stream",
     "text": [
      "#usda 1.0\n",
      "(\n",
      "    defaultPrim = \"asset\"\n",
      ")\n",
      "\n",
      "def Xform \"asset\"\n",
      "{\n",
      "}\n",
      "\n",
      "\n"
     ]
    }
   ],
   "source": [
    "# Create stage\n",
    "stage = Usd.Stage.CreateNew(usd_sphere_filepath)\n",
    "\n",
    "# Create a transform with a sphere primitive inside\n",
    "asset = stage.DefinePrim('/asset', 'Xform')\n",
    "\n",
    "# Set transform as default primitive in case this usda is referenced\n",
    "stage.SetDefaultPrim(asset)\n",
    "\n",
    "# Save and show result\n",
    "stage.GetRootLayer().Save()\n",
    "print stage.GetRootLayer().ExportToString()"
   ]
  },
  {
   "cell_type": "markdown",
   "metadata": {},
   "source": [
    "## Add variantset and variants"
   ]
  },
  {
   "cell_type": "code",
   "execution_count": 8,
   "metadata": {},
   "outputs": [],
   "source": [
    "variantset_name_list = asset.GetVariantSets().GetNames()\n",
    "for variantset_name in variantset_name_list:\n",
    "    print variantset_name\n",
    "    variant_set = sphere.GetVariantSet(variantset_name)\n",
    "    print variant_set"
   ]
  },
  {
   "cell_type": "code",
   "execution_count": 9,
   "metadata": {},
   "outputs": [
    {
     "name": "stdout",
     "output_type": "stream",
     "text": [
      "#usda 1.0\n",
      "(\n",
      "    defaultPrim = \"asset\"\n",
      ")\n",
      "\n",
      "def Xform \"asset\" (\n",
      "    variants = {\n",
      "        string shadingVariant = \"red\"\n",
      "    }\n",
      "    prepend variantSets = \"shadingVariant\"\n",
      ")\n",
      "{\n",
      "    variantSet \"shadingVariant\" = {\n",
      "        \"blue\" {\n",
      "            def Sphere \"geom\"\n",
      "            {\n",
      "                color3f[] primvars:displayColor = [(0, 0, 1)]\n",
      "            }\n",
      "\n",
      "        }\n",
      "        \"green\" {\n",
      "            def Cone \"geom\"\n",
      "            {\n",
      "                color3f[] primvars:displayColor = [(0, 1, 0)]\n",
      "            }\n",
      "\n",
      "        }\n",
      "        \"red\" {\n",
      "            def Cube \"geom\"\n",
      "            {\n",
      "                color3f[] primvars:displayColor = [(1, 0, 0)]\n",
      "            }\n",
      "\n",
      "        }\n",
      "    }\n",
      "}\n",
      "\n",
      "\n"
     ]
    }
   ],
   "source": [
    "# Create a variant set only if it does not exists\n",
    "variantset_name_list = asset.GetVariantSets().GetNames()\n",
    "variantset_name = 'shadingVariant'\n",
    "if variantset_name not in variantset_name_list:\n",
    "    variant_set = asset.GetVariantSets().AddVariantSet('shadingVariant')\n",
    "\n",
    "# Create each variant only if it does not exists\n",
    "variant_list = {\n",
    "    'red':{\n",
    "        'color':[(1,0,0)],\n",
    "        'geom':'Cube'\n",
    "    }, \n",
    "    'blue':{\n",
    "        'color':[(0,0,1)],\n",
    "        'geom':'Sphere'\n",
    "    }, \n",
    "    'green':{\n",
    "        'color':[(0,1,0)],\n",
    "        'geom':'Cone'\n",
    "    }\n",
    "}\n",
    "\n",
    "\n",
    "for variant_name, variant_option in variant_list.iteritems():\n",
    "    # Add variant if needed\n",
    "    if variant_name not in variant_set.GetVariantNames():\n",
    "        variant_set.AddVariant(variant_name)\n",
    "        \n",
    "    # Modify color attribute in the context of the variant\n",
    "    variant_set.SetVariantSelection(variant_name)\n",
    "    with variant_set.GetVariantEditContext():\n",
    "        geom = stage.DefinePrim('/asset/geom', variant_option['geom'])\n",
    "        \n",
    "        #sphereSchema = UsdGeom.Sphere(geom)\n",
    "        #colorAttr = sphereSchema.GetDisplayColorAttr()\n",
    "        \n",
    "        colorAttr = UsdGeom.Gprim.Get(stage, '/asset/geom').GetDisplayColorAttr()\n",
    "        colorAttr.Set(variant_option['color'])\n",
    "\n",
    "# Save and show result\n",
    "stage.GetRootLayer().Save()\n",
    "print stage.GetRootLayer().ExportToString()"
   ]
  },
  {
   "cell_type": "code",
   "execution_count": 10,
   "metadata": {},
   "outputs": [],
   "source": [
    "!usdview {usd_sphere_filepath}"
   ]
  },
  {
   "cell_type": "code",
   "execution_count": null,
   "metadata": {},
   "outputs": [],
   "source": []
  }
 ],
 "metadata": {
  "kernelspec": {
   "display_name": "Python 3",
   "language": "python",
   "name": "python3"
  },
  "language_info": {
   "codemirror_mode": {
    "name": "ipython",
    "version": 3
   },
   "file_extension": ".py",
   "mimetype": "text/x-python",
   "name": "python",
   "nbconvert_exporter": "python",
   "pygments_lexer": "ipython3",
   "version": "3.8.3"
  }
 },
 "nbformat": 4,
 "nbformat_minor": 2
}
