{
 "cells": [
  {
   "cell_type": "code",
   "execution_count": 1,
   "metadata": {},
   "outputs": [],
   "source": [
    "from pxr import Gf, Kind, Sdf, Usd, UsdGeom, UsdShade"
   ]
  },
  {
   "cell_type": "code",
   "execution_count": 7,
   "metadata": {},
   "outputs": [],
   "source": [
    "import os\n",
    "usd_scene_dir = '..\\usd_scenes'\n",
    "usd_billboard_filename='billboard.usda'\n",
    "usd_billboard_filepath = os.path.join(usd_scene_dir, usd_billboard_filename)"
   ]
  },
  {
   "cell_type": "markdown",
   "metadata": {},
   "source": [
    "# Create a component"
   ]
  },
  {
   "cell_type": "markdown",
   "metadata": {},
   "source": [
    "## Kinds\n",
    "\n",
    "* Primitives in a stage can grouped in kinds. This allows us to operate and filter by groups of primitives.\n",
    "* This are the type of kinds\n",
    "  * Assemblies: The root categories that are composed of multiples Assemblies or Components. For instance a campus\n",
    "  * Component: Components are groups of Sub-Components and/or Meshes. Components atomic. You can't have a component that contains another component. For instance a tree in the campus\n",
    "  * Sub-Component: A sub set of a component. For instance a leaf.\n"
   ]
  },
  {
   "cell_type": "code",
   "execution_count": 8,
   "metadata": {},
   "outputs": [],
   "source": [
    "# Execute only if you have already created a stage and need to redo it.\n",
    "try:\n",
    "    del stage\n",
    "except NameError:\n",
    "    pass"
   ]
  },
  {
   "cell_type": "code",
   "execution_count": 9,
   "metadata": {},
   "outputs": [
    {
     "data": {
      "text/plain": [
       "True"
      ]
     },
     "execution_count": 9,
     "metadata": {},
     "output_type": "execute_result"
    }
   ],
   "source": [
    "stage = Usd.Stage.CreateNew(usd_billboard_filepath)\n",
    "UsdGeom.SetStageUpAxis(stage, UsdGeom.Tokens.y)\n",
    "\n",
    "billboard = UsdGeom.Xform.Define(stage, \"/billboard\")\n",
    "Usd.ModelAPI(billboard).SetKind(Kind.Tokens.component)"
   ]
  },
  {
   "cell_type": "markdown",
   "metadata": {},
   "source": [
    "##  Define a triangle mesh\n",
    "* Vertices\n",
    "* Faces\n",
    "* Texture coordinates"
   ]
  },
  {
   "cell_type": "code",
   "execution_count": 10,
   "metadata": {},
   "outputs": [
    {
     "name": "stdout",
     "output_type": "stream",
     "text": [
      "#usda 1.0\n",
      "(\n",
      "    upAxis = \"Y\"\n",
      ")\n",
      "\n",
      "def Xform \"billboard\" (\n",
      "    kind = \"component\"\n",
      ")\n",
      "{\n",
      "    def Mesh \"mesh\"\n",
      "    {\n",
      "        float3[] extent = [(-430, -145, 0), (430, 145, 0)]\n",
      "        int[] faceVertexCounts = [4]\n",
      "        int[] faceVertexIndices = [0, 1, 2, 3]\n",
      "        point3f[] points = [(-430, -145, 0), (430, -145, 0), (430, 145, 0), (-430, 145, 0)]\n",
      "        texCoord2f[] primvars:st = [(0, 0), (1, 0), (1, 1), (0, 1)] (\n",
      "            interpolation = \"varying\"\n",
      "        )\n",
      "    }\n",
      "}\n",
      "\n",
      "\n"
     ]
    }
   ],
   "source": [
    "billboard_mesh = UsdGeom.Mesh.Define(stage, \"/billboard/mesh\")\n",
    "billboard_mesh.CreatePointsAttr([(-430, -145, 0), (430, -145, 0), (430, 145, 0), (-430, 145, 0)])\n",
    "billboard_mesh.CreateFaceVertexCountsAttr([4])\n",
    "billboard_mesh.CreateFaceVertexIndicesAttr([0,1,2,3])\n",
    "billboard_mesh.CreateExtentAttr([(-430, -145, 0), (430, 145, 0)])\n",
    "\n",
    "# Create a variable that varies across the primitive and needs to be interpolated\n",
    "texCoords = billboard_mesh.CreatePrimvar(\"st\", \n",
    "                                    Sdf.ValueTypeNames.TexCoord2fArray, \n",
    "                                    UsdGeom.Tokens.varying)\n",
    "texCoords.Set([(0, 0), (1, 0), (1,1), (0, 1)])\n",
    "stage.Save()\n",
    "print stage.GetRootLayer().ExportToString()"
   ]
  },
  {
   "cell_type": "code",
   "execution_count": 11,
   "metadata": {},
   "outputs": [],
   "source": [
    "!usdview {usd_billboard_filepath}"
   ]
  },
  {
   "cell_type": "markdown",
   "metadata": {},
   "source": [
    "# Make a material\n",
    "* In USD, we \"bind\" geometry to Material prims in order to customize how the geometry should be shaded.  \n",
    "* A Material is a container for networks of shading prims; a Material can contain one network that defines the surface illuminance response, and another that defines surface displacement.  \n",
    "* It can also contain different networks for different renderers that don't share a common shading language. \n",
    "* Complex models will define multiple materials, binding different geometry (Gprims) to different Materials."
   ]
  },
  {
   "cell_type": "code",
   "execution_count": 12,
   "metadata": {},
   "outputs": [],
   "source": [
    "material = UsdShade.Material.Define(stage, '/mesh/boardmat')"
   ]
  },
  {
   "cell_type": "markdown",
   "metadata": {},
   "source": [
    "## Create a surface"
   ]
  },
  {
   "cell_type": "code",
   "execution_count": 13,
   "metadata": {},
   "outputs": [
    {
     "data": {
      "text/plain": [
       "True"
      ]
     },
     "execution_count": 13,
     "metadata": {},
     "output_type": "execute_result"
    }
   ],
   "source": [
    "pbrShader = UsdShade.Shader.Define(stage, '/mesh/boardmatt/pbrshader')\n",
    "pbrShader.CreateIdAttr(\"UsdPreviewSurface\")\n",
    "pbrShader.CreateInput(\"roughness\", Sdf.ValueTypeNames.Float).Set(0.4)\n",
    "pbrShader.CreateInput(\"metallic\", Sdf.ValueTypeNames.Float).Set(0.0)\n",
    "\n",
    "material.CreateSurfaceOutput().ConnectToSource(pbrShader, \"surface\")"
   ]
  },
  {
   "cell_type": "code",
   "execution_count": null,
   "metadata": {},
   "outputs": [],
   "source": []
  }
 ],
 "metadata": {
  "kernelspec": {
   "display_name": "Python 3",
   "language": "python",
   "name": "python3"
  },
  "language_info": {
   "codemirror_mode": {
    "name": "ipython",
    "version": 3
   },
   "file_extension": ".py",
   "mimetype": "text/x-python",
   "name": "python",
   "nbconvert_exporter": "python",
   "pygments_lexer": "ipython3",
   "version": "3.8.3"
  }
 },
 "nbformat": 4,
 "nbformat_minor": 2
}
